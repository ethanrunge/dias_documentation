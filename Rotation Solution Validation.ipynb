{
 "cells": [
  {
   "cell_type": "markdown",
   "id": "2aba501f",
   "metadata": {},
   "source": [
    "# Checking How Well the Rotation Solution Works\n",
    "\n",
    "We are interested in seeing how well the rotation solution actually works.\n",
    "There are a couple of tests that can be done to see how well we are correcting for or tracking the actual motion of the instrument.\n",
    "It is expected that the instrument suspension system is quite robust, so we need to see if the rotation solution is working properly, or if there are issues with the suspension.\n",
    "\n",
    "This work will take three major approaches:\n",
    "\n",
    "1. Check theta, the angle between the X and Y components of the rotated solution and see how it changes in time\n",
    "2. Plot the total magnetic field and each of the components in the frequency domain\n",
    "3. Take the ROS/Gazebo simulation data, create \"fake\" areas of differing magnetic fields, and modify the magnetic data as though it had flown through those areas. See what happens to the solution in this scenario"
   ]
  },
  {
   "cell_type": "markdown",
   "id": "e5d0a06a",
   "metadata": {},
   "source": [
    "## Frequency Domain Response\n",
    "\n",
    "This particular bit of code should be run after stopping the rotation solution at its output (in a debugger).\n",
    "\n",
    "### The code"
   ]
  },
  {
   "cell_type": "code",
   "execution_count": null,
   "id": "2b473324",
   "metadata": {},
   "outputs": [],
   "source": [
    "x1 = mag_vals_all[:, 0]\n",
    "y1 = mag_vals_all[:, 1]\n",
    "z1 = mag_vals_all[:, 2]\n",
    "fs1 = 1/np.mean(np.diff(mag_time))\n",
    "first_label = 'original'\n",
    "x2 = rotated_squid_data[:, 0]\n",
    "y2 = rotated_squid_data[:, 1]\n",
    "z2 = rotated_squid_data[:, 2]\n",
    "fs2 = 1/np.mean(np.diff(mag_time))\n",
    "second_label = 'after procrustes'\n",
    "x_orig_fft = np.fft.fft(x1)\n",
    "x_orig_freq = np.fft.fftfreq(x_orig_fft.shape[-1], 1/fs1)\n",
    "x_post_vqf_fft = np.fft.fft(x2)\n",
    "x_post_vqf_freq = np.fft.fftfreq(x_post_vqf_fft.shape[-1], 1/fs2)\n",
    "# x_orig_freq, x_orig_fft = scygnal.welch(x1, fs=fs1,\n",
    "#                           window='hamming', nperseg=2048, scaling='spectrum')\n",
    "# x_post_vqf_freq, x_post_vqf_fft = scygnal.welch(x2, fs=fs2,\n",
    "#                           window='hamming', nperseg=2048, scaling='spectrum')\n",
    "plt.figure()\n",
    "plt.plot(x_orig_freq,\n",
    "         x_orig_fft,\n",
    "         alpha=0.6, label='{}'.format(first_label))\n",
    "plt.plot(x_post_vqf_freq,\n",
    "         x_post_vqf_fft,\n",
    "         alpha=0.6, label='{}'.format(second_label))\n",
    "plt.xscale('log')\n",
    "# plt.yscale('log')\n",
    "plt.title('X component')\n",
    "plt.xlabel('Frequency (Hz)')\n",
    "# plt.xlim([1, 1e4])\n",
    "# plt.ylim([-5e6, 5e6])\n",
    "\n",
    "y_orig_fft = np.fft.fft(y1)\n",
    "y_orig_freq = np.fft.fftfreq(y_orig_fft.shape[-1], 1/fs1)\n",
    "y_post_vqf_fft = np.fft.fft(y2)\n",
    "y_post_vqf_freq = np.fft.fftfreq(y_post_vqf_fft.shape[-1], 1/fs2)\n",
    "# y_orig_freq, y_orig_fft = scygnal.welch(y1, fs=fs1,\n",
    "#                           window='hamming', nperseg=2048, scaling='spectrum')\n",
    "# y_post_vqf_freq, y_post_vqf_fft = scygnal.welch(y2, fs=fs2,\n",
    "#                           window='hamming', nperseg=2048, scaling='spectrum')\n",
    "plt.figure()\n",
    "plt.plot(y_orig_freq,\n",
    "         y_orig_fft,\n",
    "         alpha=0.6, label='{}'.format(first_label))\n",
    "plt.plot(y_post_vqf_freq,\n",
    "         y_post_vqf_fft,\n",
    "         alpha=0.6, label='{}'.format(second_label))\n",
    "plt.xscale('log')\n",
    "# plt.yscale('log')\n",
    "plt.title('Y component')\n",
    "plt.xlabel('Frequency (Hz)')\n",
    "# plt.xlim([1, 1e4])\n",
    "# plt.ylim([-5e6, 5e6])\n",
    "\n",
    "z_orig_fft = np.fft.fft(z1)\n",
    "z_orig_freq = np.fft.fftfreq(z_orig_fft.shape[-1], 1/fs1)\n",
    "z_post_vqf_fft = np.fft.fft(z2)\n",
    "z_post_vqf_freq = np.fft.fftfreq(z_post_vqf_fft.shape[-1], 1/fs2)\n",
    "# z_orig_freq, z_orig_fft = scygnal.welch(z1, fs=fs1,\n",
    "#                           window='hamming', nperseg=2048, scaling='spectrum')\n",
    "# z_post_vqf_freq, z_post_vqf_fft = scygnal.welch(z2, fs=fs2,\n",
    "#                           window='hamming', nperseg=2048, scaling='spectrum')\n",
    "plt.figure()\n",
    "plt.plot(z_orig_freq,\n",
    "         z_orig_fft,\n",
    "         alpha=0.6, label='{}'.format(first_label))\n",
    "plt.plot(z_post_vqf_freq,\n",
    "         z_post_vqf_fft,\n",
    "         alpha=0.6, label='{}'.format(second_label))\n",
    "plt.xscale('log')\n",
    "# plt.yscale('log')\n",
    "plt.title('Z component')\n",
    "plt.xlabel('Frequency (Hz)')\n",
    "# plt.xlim([1, 1e4])\n",
    "# plt.ylim([-5e6, 5e6])\n",
    "\n",
    "total1 = np.sqrt(x1**2 + y1**2 + z1**2)\n",
    "total2 = np.sqrt(x2**2 + y2**2 + z2**2)\n",
    "# total_rot = np.sqrt(rotated_squid_data[:, 0]**2 + rotated_squid_data[:, 1]**2 + rotated_squid_data[:, 2]**2)\n",
    "total_freq_resp1 = np.fft.fft(total1)\n",
    "total_freq_resp2 = np.fft.fft(total2)\n",
    "tot_freq1 = np.fft.fftfreq(total_freq_resp1.shape[-1], 1/fs1)\n",
    "tot_freq2 = np.fft.fftfreq(total_freq_resp2.shape[-1], 1/fs2)\n",
    "# total_freq1, tot_freq_resp1 = scygnal.welch(total1, fs=fs1,\n",
    "#                           window='hamming', nperseg=2048, scaling='spectrum')\n",
    "# total_freq2, tot_freq_resp2 = scygnal.welch(total2, fs=fs2,\n",
    "#                           window='hamming', nperseg=2048, scaling='spectrum')\n",
    "plt.figure()\n",
    "plt.plot(tot_freq1[:int(np.floor(len(tot_freq1)/2))],\n",
    "         total_freq_resp1[:int(np.floor(len(tot_freq1)/2))],\n",
    "         alpha=0.6, label='{}'.format(first_label))\n",
    "plt.plot(tot_freq2[:int(np.floor(len(tot_freq2)/2))],\n",
    "         total_freq_resp2[:int(np.floor(len(tot_freq2)/2))],\n",
    "         alpha=0.6, label='{}'.format(second_label))\n",
    "plt.xscale('log')\n",
    "# plt.yscale('log')\n",
    "plt.title('Total')\n",
    "plt.xlabel('Frequency (Hz)')\n",
    "plt.xlim([1, 1e4])\n",
    "plt.ylim([-5e6, 5e6])"
   ]
  },
  {
   "cell_type": "markdown",
   "id": "1f7b7049",
   "metadata": {},
   "source": [
    "### The results\n",
    "\n",
    "<table>\n",
    "    <tr>\n",
    "        <td><img src=\"./Figures_for_documents/Frequency_responses/X_components.png\" width=\"450\"/></td>\n",
    "        <td><img src=\"./Figures_for_documents/Frequency_responses/Y_components.png\" width=\"450\"/></td>\n",
    "    </tr>\n",
    "    <tr>\n",
    "        <td><img src=\"./Figures_for_documents/Frequency_responses/Z_components.png\" width=\"450\"/></td>\n",
    "        <td><img src=\"./Figures_for_documents/Frequency_responses/Total.png\" width=\"450\"/></td>\n",
    "    </tr>\n",
    "</table>\n",
    "\n",
    "These plots show the frequency response before (blue) and after (orange) the rotation solution is applied.\n",
    "They are both plotted with some transparency, which creates a brown color where they overlap.\n",
    "\n",
    "From these plots, it can be seen that the X component appears to gain some signal across most frequencies, the Y component seems to lose.\n",
    "The Z component seems largely unchanged except for some loss in the lower frequencies.\n",
    "The most notable result is that the frequency response of the total magnetic field is nearly identical between the two cases, and no component has major frequency spikes that do not also appear in the total field. "
   ]
  },
  {
   "cell_type": "markdown",
   "id": "7947d250",
   "metadata": {},
   "source": [
    "## Checking Theta\n",
    "\n",
    "In this section, I will compare three different sources of theta, which represents the heading and the angle between the Y and X components.\n",
    "The first will be the angle between the unrotated X and Y components, the second will use rotated, and the third will be the heading as calculated from the quaternions (which should be identical to the angle found with rotated data).\n",
    "The expectation here is that a poor rotation solution will have a heading that is drifting in time, which is clearly not compensating for the accumulating gyro bias.\n",
    "\n",
    "### The code"
   ]
  },
  {
   "cell_type": "code",
   "execution_count": null,
   "id": "b640bf14",
   "metadata": {},
   "outputs": [],
   "source": [
    "start = 23095884\n",
    "end = 98192155\n",
    "euler_angles = np.array([q_lib.euler_from_quaternion(quat_lowpassed.T[start+x, :]) for x in range(len(quat_lowpassed.T[start:end]))])\n",
    "euler_heading = np.unwrap(euler_angles[:, 2])\n",
    "theta_prior = np.unwrap(np.arctan2(mag_vals_all[start:end, 0], mag_vals_all[start:end, 1]))\n",
    "theta_post = np.unwrap(np.arctan2(rotated_squid_data[start:end, 0], rotated_squid_data[start:end, 1]))\n",
    "\n",
    "fig = plt.figure(figsize=(10, 8))\n",
    "gs = fig.add_gridspec(9, 9)\n",
    "ax1 = fig.add_subplot(gs[:])\n",
    "ax1.plot(mag_time[start:end], np.rad2deg(euler_heading), 'b', alpha=0.5, label='Euler Heading')\n",
    "ax1.plot(mag_time[start:end], np.rad2deg(theta_prior), 'r', alpha=0.5, label='Prior')\n",
    "ax1.plot(mag_time[start:end], np.rad2deg(theta_post), 'g', alpha=0.5, label='Rotated')\n",
    "ax1.set_xlabel('Time (s)')\n",
    "ax1.set_ylabel('Heading (degrees) \\n (Unwrapped to remove discontinuities)')\n",
    "ax1.set_title('Different Heading Calculations Results')\n",
    "ax1.set_legend(loc='upper left')"
   ]
  },
  {
   "cell_type": "markdown",
   "id": "602b0371",
   "metadata": {},
   "source": [
    "### The Results\n",
    "\n",
    "<table>\n",
    "    <tr>\n",
    "        <td><img src=\"./Figures_for_documents/Heading_investigation/all_methods_full_flight.png\" width=\"600\"/></td>\n",
    "    </tr>\n",
    "    <tr>\n",
    "        <td><img src=\"./Figures_for_documents/Heading_investigation/flight_path.png\" width=\"600\"/></td>\n",
    "    </tr>\n",
    "    <tr>\n",
    "        <td><img src=\"./Figures_for_documents/Heading_investigation/all_methods_flight_lines.png\" width=\"600\"/></td>\n",
    "    </tr>\n",
    "</table>"
   ]
  },
  {
   "cell_type": "markdown",
   "id": "d18849a5",
   "metadata": {},
   "source": [
    "From the above figures, we can see that there are five distinct, mostly level heading calculations that correspond to the five parallel flight lines.\n",
    "It can also be seen that the theta as calculated by the magnetic components has a more oscillatory nature than the quaternion solution."
   ]
  },
  {
   "cell_type": "markdown",
   "id": "5fad8aa2",
   "metadata": {},
   "source": [
    "![zoomed](./Figures_for_documents/Heading_investigation/zoomed_in_first_line.png)"
   ]
  },
  {
   "cell_type": "markdown",
   "id": "554b871c",
   "metadata": {},
   "source": [
    "Zooming in on the first region and placing each on their own axes for comparison we can see similar trends in each and that on average the heading is fairly constant.\n",
    "A linear fit to one such \"line\" is the next step in the investigation.\n",
    "\n",
    "The linear fit to each of the flight lines for each of the methodologies is given here:\n",
    "\n",
    "![linear](./Figures_for_documents/Heading_investigation/linear_fit_each_flight_line.png)\n",
    "\n",
    "From these lines, it seems that each of the lines does seem to have a slight drift, of approximately 0.15 radians over the course of a single flight line, 645 seconds, or nearly 11 minutes.\n",
    "The drift after heading then is about 0.013 radians per minute, or 0.8 radians per hour.\n",
    "The gyro drift quoted for the fogIMU is unknown, but we know it is worse than the uIMU which has a quoted drift of 4 degrees per hour (0.0698132 radians per hour).\n",
    "Based on the use of the fogIMU then, after the rotation solution we are still drifting more than in the case of the uIMU\n",
    "\n",
    "It is also worth considering that some lines appear to have a drift in the opposite direction, and that this is based on a purely linear fit to 5 lines.\n",
    "Ideally, an average and standard deviation could be determined from a larger dataset."
   ]
  },
  {
   "cell_type": "markdown",
   "id": "c0bd5d3c",
   "metadata": {},
   "source": [
    "## Oddness\n",
    "\n",
    "There appears to be a bit of oddness occuring now, as there are 4 distinct levels in the heading data, when there should only be two.\n",
    "Why is this the case? \n",
    "Likewise, what is the source of the spikes that are seen in the Euler heading data?\n",
    "Let's look at the quaternion for the first line of the flight, which has been identified as index 24000 to index 37000 of the GPS data.\n",
    "\n",
    "<figure>\n",
    "<img src=\".\\Figures_for_documents\\Heading_investigation\\quaternion.png\", width=\"600\">\n",
    "</figure>\n",
    "\n",
    "The red line, which represents the z-axis, switches from 1 to -1 within this flight.\n",
    "The spike corresponds to this location, which means it is almost assuredly a result of interpolation overshoot.\n",
    "\n",
    "Below is a figure of the quaternions for the whole flight."
   ]
  },
  {
   "cell_type": "markdown",
   "id": "542b8dcc",
   "metadata": {},
   "source": [
    "![all_quats](.\\Figures_for_documents\\Heading_investigation\\quaternions_full_flight_lines_highlighted.png)"
   ]
  },
  {
   "cell_type": "markdown",
   "id": "7706b498",
   "metadata": {},
   "source": [
    "We can see here that this z-axis shift occurs in every one of the lines.\n",
    "Since the direction is not exactly changing along these lines, it would appear that this is the result of a slight heading drift over the course of the flight, that causes the solution to \"tick over\" from 1 to -1 or -1 to 1 during the flight lines.\n",
    "The only result here is the spikes, which in and of themselves can be corrected.\n",
    "\n",
    "The major problem I see here is that there doesn't appear to be a good reason looking at the quaternions themselves that there are four distinct levels instead of two.\n",
    "Unless this is also due to the drift.\n",
    "\n",
    "Taking a look again at this figure:\n",
    "![](.\\Figures_for_documents\\Heading_investigation\\all_methods_flight_lines.png)"
   ]
  },
  {
   "cell_type": "markdown",
   "id": "e57f6f55",
   "metadata": {},
   "source": [
    "What are the average values of each of these shown lines?\n",
    "In this case, we will not be unwrapping them but considering individually.\n",
    "\n",
    "|First Line|Second Line|Third Line|Fourth Line|Fifth Line|\n",
    "|---|---|---|---|---|\n",
    "|-43.436638733089275 deg|-4.049044900284875 deg|-44.256744489607975 deg|-4.67164214583264|-44.127582539592176|\n",
    "\n",
    "So, this shows that we are actually bouncing between the two main directions, despite what it looks like when the data is unwrapped."
   ]
  },
  {
   "cell_type": "code",
   "execution_count": null,
   "id": "d453e4c0",
   "metadata": {},
   "outputs": [],
   "source": []
  }
 ],
 "metadata": {
  "kernelspec": {
   "display_name": "Python 3 (ipykernel)",
   "language": "python",
   "name": "python3"
  },
  "language_info": {
   "codemirror_mode": {
    "name": "ipython",
    "version": 3
   },
   "file_extension": ".py",
   "mimetype": "text/x-python",
   "name": "python",
   "nbconvert_exporter": "python",
   "pygments_lexer": "ipython3",
   "version": "3.10.9"
  }
 },
 "nbformat": 4,
 "nbformat_minor": 5
}
