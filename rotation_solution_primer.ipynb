{
 "cells": [
  {
   "cell_type": "markdown",
   "id": "3d0e0d5c",
   "metadata": {},
   "source": [
    "# QAMT Rotation Primer\n",
    "\n",
    "## Overall Concepts\n",
    "\n",
    "### Sensor Fusion\n",
    "\n",
    "An overview of sensor fusion would be fairly longwinded and not any more useful than the resource I used to learn about how the systems work.\n",
    "As such, referring to [Using Inertial Sensors for Position and Orientation Estimation](./Kalman_detailed.pdf), Chapter 4 in particular would be the best introduction to the equations and concepts involved.\n",
    "\n",
    "The quick version is that accelerometer, gyroscope and magnetometer (ideally) readings are combined to provide the orientation of a device.\n",
    "There are known equations indicating how any particular measurement of one of these devices is a result of the true physics involved plus some noise (Chapter 3.3 to Chapter 3.7 in Using Inertial Sensors).\n",
    "These equations are used in a few different methods of determining what the orientation and pose of the craft for which the measurements are taken, most of which make use of the Kalman Filter methodology.\n",
    "Broadly defined, Kalman filter solutions take a current set of measurements, the estimated noise on those measurements and the theoretical model and are used to make a guess at what the next incoming state would be.\n",
    "This guess is compared to the next set of measurements, and the difference between the two is used to tune the alogirthm such that subsequent guesses and measurements have a decreasing difference.\n",
    "\n",
    "A great resource I used to help gain the basic understanding of Kalman filter operation is at [this site](https://www.kalmanfilter.net/default.aspx).\n",
    "The complexity of our problem quickly outstrips this source however.\n",
    "The basic Kalman Filter only works with linear equations, and non-linearities cannot be properly processed.\n",
    "This leads to either Extended Kalman filters (EKF), which use Taylor expansion of the Kalman filter equations to allow a linear estimation of non-linear functions, or to Unscented Kalman filters (UKF), which do not linearize equations but rather take a series of \"sigma points\" from the current measurement, transform them based on the non-linear funcitons, then find a distribution which best fits the transformed points and update state based on these points.\n",
    "The EKF is best used for moderately non-linear problems, and the UKF for highly non-linear problems.\n",
    "\n",
    "There have been a plethora of papers published on this topic.\n",
    "The ones I have been referring to most heavily for our implementations are [Pi-Invariant Unscented Kalman Filter for Sensor Fusion](./condomines_piinvariantUKF.pdf), [9-DOF IMU_Bases Attitude and Heading Estimation Using an Extended Kalman Filter with Bias Consideration](./imubased_attitude_heading_ekf.pdf), [Quaternion-Based Robust Attitude Estimation Using an Adaptive Unscented Kalman Filter](./qraukf_paper.pdf) and [VQF: Highly Accurate IMU Orientation Estimation with Bias Estimation and Magnetic Disturbance Rejection](./vqf_paper.pdf)\n",
    "\n"
   ]
  },
  {
   "attachments": {},
   "cell_type": "markdown",
   "id": "c950538e",
   "metadata": {},
   "source": [
    "### Using the Rotation Solution to Obtain Mag Data for a Flight\n",
    "\n",
    "Under the assumption that the sensor fusion algorithm obtains valid orientations, the next steps are:\n",
    "\n",
    "- Use GPS or RTK Lib solution to obtain the International Geomagnetic Reference Field (IGRF) at each of the locations of the bird during the flight\n",
    "- Use this information to generate a correction for geomagnetic and geographic North (VQF and magnetometer based corrections will typically generate an orientation pointing towards magnetic north).\n",
    "- Use the orientation information to rotate the IGRF field into the bird reference frame\n",
    "- Use the Procrustes method to determine the offset, scaling factor and rotation of the SQUID data to align it with the bird reference frame\n",
    "- Maybe apply the motion noise compensation algorithm used by Supracon (more in next section)\n",
    "- Use the rotation solution to rotate the modified SQUID data back into the Earth reference frame (ideally will look similar to the IGRF field, with disturbances)\n",
    "\n",
    "The first few sections of [Rotation_Solution_Update](./Rotation_Solution_Update.ipynb) give a good overview on what this process looks like, but I can demonstrate as needed as well."
   ]
  },
  {
   "cell_type": "markdown",
   "id": "28b0d4bd",
   "metadata": {},
   "source": [
    "## Current Workflow\n",
    "\n",
    "The current workflow makes use of the VQF code-base for sensor fusion.\n",
    "The following flowchart shows all current steps used:\n",
    "\n",
    "```{figure} ./rotation_solution_flowchart.png\n",
    ":name: rotation_flowchart\n",
    ":width: 700\n",
    "\n",
    "Rotation Solution flowchart. Note that the VQF block could theoretically be replaced with any sensor fusion algorithm.\n",
    "```\n"
   ]
  },
  {
   "cell_type": "markdown",
   "id": "c8759675",
   "metadata": {},
   "source": [
    "## Current Issues\n",
    "\n",
    "This Jupyter notebook summarizes many of the existing issues that we were experiencing: [Rotation Solution Update](./Rotation_Solution_Update.ipynb)\n",
    "\n",
    "Many of these have been solved, though there are still issues with the fact that the motion noise compensation (mnc) algorithm used by Supracon is not giving us the same results as it was for Markus, even when we use Markus' rotation solution.\n",
    "\n",
    "The other issue is that I cannot get the VQF solution and that obtained by Markus to match.\n",
    "This remains true even if I use Markus' solution as the minimization target for the tuning parameters to VQF.\n",
    "This is our major roadblock now."
   ]
  },
  {
   "attachments": {},
   "cell_type": "markdown",
   "id": "fbe529bd",
   "metadata": {},
   "source": [
    "## Approaches Tried\n",
    "\n",
    "### Legacy Code (Python and Cython)\n",
    "\n",
    "First and foremost, I am not certain what happened with the code Hugo left behind when I started.\n",
    "I could not get the code to work as it was, and I suspect that he was in the middle of some breaking changes to the overall processing chain when he left.\n",
    "In light of this, I ported over as much of the existing kalman filter code over as it is, while removing the steps that sought to write results to very specific folder paths and hdf5 files as interim results, instead keeping it all in local memory.\n",
    "The code as it exists right now takes about 5 days to run the Namibia data file, which comprises about 3 hours of flight data.\n",
    "\n",
    "The main reason for this is that Kalman filter methods necessarily use for-loops to run through all the data points, which is incredibly slow in Python.\n",
    "This is also the reason that my attempts to write a Cython equivalent (conversion to C to use in Python) led to very little optimization (4 days instead of 5); most of the functions and math used in the Kalman filter interact with Python libraries and Python objects, and thus are not translated into C.\n",
    "\n",
    "It is worth noting that the existing code developed by Hugo is a recreation of the QRAUKF method in Python, and the original is freely available as a MATLAB repository, and could potentially be used to debug/reference/check.\n",
    "\n",
    "The results from this existing code are not coherent and resemble noise more than any sort of actual solution.\n",
    "I can see from reports Hugo made that the solution did work at some point, even if it was slow, but I cannot determine where the solution has broken.\n",
    "\n",
    "A large part of this may be due to the need to specify the noise parameters for each measurement type and the expected variance in the solution.\n",
    "If the noise parameters are not set correctly, the Kalman filter will happily give nonsensical solutions that are technically within the noise bounds.\n",
    "These parameters would have to be tuned using a simplified, known orientation/location test most likely.\n",
    "\n",
    "### VQF\n",
    "\n",
    "This is the currently implemented sensor fusion algorithm used in our processing code.\n",
    "Despite the recent discovery that the solution can be tuned by changing a few parameters and obtaining results very close to what Supracon obtains, there is still some residual drift remaining in our solution.\n",
    "{ref}`vqf_sol` shows the current state of our best-case solution.\n",
    "\n",
    "This means that when I use the VQF solution, there is an artificial slope remaining in many of our components that should not be there.\n",
    "In reading through the documentation for VQF, it appears that the algorithm may not do well in situations where there is high magnetic disturbance.\n",
    "If so, this makes it fundamentally ill-posed for solving our solution due to the nature of QAMT measurements.\n",
    "\n",
    "```{figure} ./Figures_for_documents/primer/vqf_solution.png\n",
    ":name: vqf_sol\n",
    "\n",
    "VQF Solution at present time\n",
    "```\n"
   ]
  },
  {
   "cell_type": "markdown",
   "id": "d5f2d711",
   "metadata": {},
   "source": [
    "### A Posteriori Method\n",
    "\n",
    "One of the methods of solving this issue that is discussed in Chapter 4 of Using Inertial Sensors is to take the whole series of measurements and their expected distributions to find the most probable state.\n",
    "This type of methodology was very similar to the work I had done in my MSc and PhD work, so I thought I would try this as well.\n",
    "The ```pose_estimate_lib.py``` script is the result of this investigation, where I learned that the method requires a sparse matrix of VERY LARGE PROPORTIONS to be inverted, which requires more memory than is feasible.\n",
    "Breaking the flight into smaller, more manageable chunks of the full flight is also not a good idea, as each line or segment would be optimized separately and is almost certain to give a series of results that are discontinuous.\n",
    "I have since abandoned this course of action, realizing this is why almost every paper on the topic uses some kind of Kalman filter rather than an inverse solution."
   ]
  },
  {
   "attachments": {},
   "cell_type": "markdown",
   "id": "48e29ac1",
   "metadata": {},
   "source": [
    "### MATLAB Sensor Fusion and Tracking Toolbox\n",
    "\n",
    "Glenn has obtained a license for us to use the Sensor Fusion and Tracking Toolbox for MATLAB.\n",
    "This looks to be an active, well-established and reputable set of tools designed specifically for the type of problem we face.\n",
    "\n",
    "Like the Python/Cython solution however, this is also very slow and gives results that are non-physical, likely due to incorrect noise parameters.\n",
    "See {ref}`matlab_sol` for an example of the kind of current result we are seeing.\n",
    "\n",
    "This method as well may require us to do a series of non-flight calibration data sets where we know the true position and orientation of the bird so we can do proper tuning.\n",
    "The tuning of filters used by the Tracking Toolbox is done with built-in functions.\n",
    "\n",
    "This is an example of the most recent run of the insfilterMARG filter in the Tracking Toolbox:\n",
    "```{figure} ./Figures_for_documents/primer/matlab_solution.png\n",
    ":name: matlab_sol\n",
    "\n",
    "MATLAB Solution using the ```insfilterMARG``` function in the Sensor Fusion and Tracking Toobox.\n",
    "```\n",
    "As we can see, it's essentially noise at this time."
   ]
  },
  {
   "cell_type": "markdown",
   "id": "e7db8434",
   "metadata": {},
   "source": [
    "## Moving Forward\n",
    "\n",
    "The MATLAB library was the latest attempt made at solving this problem, and various tuning parameter checks are being done with VQF (with low confidence).\n",
    "I beleive that our next best step may be to switch to C as a method of obtaining quicker turn around.\n",
    "The Tracking Toolbox was designed to work with MATLAB Coder, which allows the direct translation of the MATLAB algorithms into C code, but we do not have a license for it.\n",
    "I don't know if that's a path we want to go down or if we should start from scratch.\n",
    "I'm open to ideas, but do not have a lot of experience with C code."
   ]
  },
  {
   "cell_type": "code",
   "execution_count": null,
   "id": "98af869b",
   "metadata": {},
   "outputs": [],
   "source": []
  }
 ],
 "metadata": {
  "jupytext_formats": "ipynb,py",
  "kernelspec": {
   "display_name": "qamt_env",
   "language": "python",
   "name": "qamt_env"
  },
  "language_info": {
   "codemirror_mode": {
    "name": "ipython",
    "version": 3
   },
   "file_extension": ".py",
   "mimetype": "text/x-python",
   "name": "python",
   "nbconvert_exporter": "python",
   "pygments_lexer": "ipython3",
   "version": "3.8.16"
  }
 },
 "nbformat": 4,
 "nbformat_minor": 5
}
